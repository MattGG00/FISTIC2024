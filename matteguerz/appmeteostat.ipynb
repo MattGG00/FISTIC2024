{
 "cells": [
  {
   "cell_type": "code",
   "execution_count": null,
   "metadata": {},
   "outputs": [
    {
     "name": "stdout",
     "output_type": "stream",
     "text": [
      "Note: you may need to restart the kernel to use updated packages.\n"
     ]
    },
    {
     "name": "stderr",
     "output_type": "stream",
     "text": [
      "\n",
      "[notice] A new release of pip is available: 24.3.1 -> 25.0\n",
      "[notice] To update, run: python.exe -m pip install --upgrade pip\n"
     ]
    }
   ],
   "source": [
    "!pip install meteostat -q"
   ]
  },
  {
   "cell_type": "code",
   "execution_count": 5,
   "metadata": {},
   "outputs": [],
   "source": [
    "from datetime import datetime\n",
    "import matplotlib.pyplot as plt\n",
    "from meteostat import Point, Daily"
   ]
  },
  {
   "cell_type": "code",
   "execution_count": 9,
   "metadata": {},
   "outputs": [
    {
     "data": {
      "text/plain": [
       "[34.543896, 69.160652]"
      ]
     },
     "execution_count": 9,
     "metadata": {},
     "output_type": "execute_result"
    }
   ],
   "source": [
    "cities = {'Tokyo':[35.652832,139.839478]}\n",
    "cities.values()\n",
    "\n",
    "list(cities.values())[0]"
   ]
  },
  {
   "cell_type": "code",
   "execution_count": 10,
   "metadata": {},
   "outputs": [
    {
     "data": {
      "text/plain": [
       "'Kabul'"
      ]
     },
     "execution_count": 10,
     "metadata": {},
     "output_type": "execute_result"
    }
   ],
   "source": [
    "list(cities.keys())[0]"
   ]
  },
  {
   "cell_type": "code",
   "execution_count": 14,
   "metadata": {},
   "outputs": [
    {
     "name": "stderr",
     "output_type": "stream",
     "text": [
      "FutureWarning: Support for nested sequences for 'parse_dates' in pd.read_csv is deprecated. Combine the desired columns with pd.to_datetime after parsing instead.\n",
      "FutureWarning: Support for nested sequences for 'parse_dates' in pd.read_csv is deprecated. Combine the desired columns with pd.to_datetime after parsing instead.\n",
      "FutureWarning: Support for nested sequences for 'parse_dates' in pd.read_csv is deprecated. Combine the desired columns with pd.to_datetime after parsing instead.\n",
      "FutureWarning: Support for nested sequences for 'parse_dates' in pd.read_csv is deprecated. Combine the desired columns with pd.to_datetime after parsing instead.\n"
     ]
    },
    {
     "data": {
      "text/html": [
       "<div>\n",
       "<style scoped>\n",
       "    .dataframe tbody tr th:only-of-type {\n",
       "        vertical-align: middle;\n",
       "    }\n",
       "\n",
       "    .dataframe tbody tr th {\n",
       "        vertical-align: top;\n",
       "    }\n",
       "\n",
       "    .dataframe thead th {\n",
       "        text-align: right;\n",
       "    }\n",
       "</style>\n",
       "<table border=\"1\" class=\"dataframe\">\n",
       "  <thead>\n",
       "    <tr style=\"text-align: right;\">\n",
       "      <th></th>\n",
       "      <th>tavg</th>\n",
       "      <th>tmin</th>\n",
       "      <th>tmax</th>\n",
       "      <th>prcp</th>\n",
       "      <th>snow</th>\n",
       "      <th>wdir</th>\n",
       "      <th>wspd</th>\n",
       "      <th>wpgt</th>\n",
       "      <th>pres</th>\n",
       "      <th>tsun</th>\n",
       "      <th>city</th>\n",
       "    </tr>\n",
       "    <tr>\n",
       "      <th>time</th>\n",
       "      <th></th>\n",
       "      <th></th>\n",
       "      <th></th>\n",
       "      <th></th>\n",
       "      <th></th>\n",
       "      <th></th>\n",
       "      <th></th>\n",
       "      <th></th>\n",
       "      <th></th>\n",
       "      <th></th>\n",
       "      <th></th>\n",
       "    </tr>\n",
       "  </thead>\n",
       "  <tbody>\n",
       "    <tr>\n",
       "      <th>2022-01-01</th>\n",
       "      <td>2.6</td>\n",
       "      <td>-1.4</td>\n",
       "      <td>6.9</td>\n",
       "      <td>0.0</td>\n",
       "      <td>NaN</td>\n",
       "      <td>314.0</td>\n",
       "      <td>17.1</td>\n",
       "      <td>NaN</td>\n",
       "      <td>1018.9</td>\n",
       "      <td>NaN</td>\n",
       "      <td>Tokyo</td>\n",
       "    </tr>\n",
       "    <tr>\n",
       "      <th>2022-01-02</th>\n",
       "      <td>3.2</td>\n",
       "      <td>-0.7</td>\n",
       "      <td>7.9</td>\n",
       "      <td>0.0</td>\n",
       "      <td>NaN</td>\n",
       "      <td>330.0</td>\n",
       "      <td>8.8</td>\n",
       "      <td>NaN</td>\n",
       "      <td>1020.5</td>\n",
       "      <td>NaN</td>\n",
       "      <td>Tokyo</td>\n",
       "    </tr>\n",
       "    <tr>\n",
       "      <th>2022-01-03</th>\n",
       "      <td>5.6</td>\n",
       "      <td>1.4</td>\n",
       "      <td>9.9</td>\n",
       "      <td>0.0</td>\n",
       "      <td>NaN</td>\n",
       "      <td>347.0</td>\n",
       "      <td>9.8</td>\n",
       "      <td>NaN</td>\n",
       "      <td>1016.6</td>\n",
       "      <td>NaN</td>\n",
       "      <td>Tokyo</td>\n",
       "    </tr>\n",
       "    <tr>\n",
       "      <th>2022-01-04</th>\n",
       "      <td>5.7</td>\n",
       "      <td>1.5</td>\n",
       "      <td>10.9</td>\n",
       "      <td>0.0</td>\n",
       "      <td>NaN</td>\n",
       "      <td>331.0</td>\n",
       "      <td>11.7</td>\n",
       "      <td>NaN</td>\n",
       "      <td>1012.9</td>\n",
       "      <td>NaN</td>\n",
       "      <td>Tokyo</td>\n",
       "    </tr>\n",
       "    <tr>\n",
       "      <th>2022-01-05</th>\n",
       "      <td>3.7</td>\n",
       "      <td>0.7</td>\n",
       "      <td>7.9</td>\n",
       "      <td>0.0</td>\n",
       "      <td>NaN</td>\n",
       "      <td>337.0</td>\n",
       "      <td>16.6</td>\n",
       "      <td>NaN</td>\n",
       "      <td>1020.9</td>\n",
       "      <td>NaN</td>\n",
       "      <td>Tokyo</td>\n",
       "    </tr>\n",
       "  </tbody>\n",
       "</table>\n",
       "</div>"
      ],
      "text/plain": [
       "            tavg  tmin  tmax  prcp  snow   wdir  wspd  wpgt    pres  tsun  \\\n",
       "time                                                                        \n",
       "2022-01-01   2.6  -1.4   6.9   0.0   NaN  314.0  17.1   NaN  1018.9   NaN   \n",
       "2022-01-02   3.2  -0.7   7.9   0.0   NaN  330.0   8.8   NaN  1020.5   NaN   \n",
       "2022-01-03   5.6   1.4   9.9   0.0   NaN  347.0   9.8   NaN  1016.6   NaN   \n",
       "2022-01-04   5.7   1.5  10.9   0.0   NaN  331.0  11.7   NaN  1012.9   NaN   \n",
       "2022-01-05   3.7   0.7   7.9   0.0   NaN  337.0  16.6   NaN  1020.9   NaN   \n",
       "\n",
       "             city  \n",
       "time               \n",
       "2022-01-01  Tokyo  \n",
       "2022-01-02  Tokyo  \n",
       "2022-01-03  Tokyo  \n",
       "2022-01-04  Tokyo  \n",
       "2022-01-05  Tokyo  "
      ]
     },
     "execution_count": 14,
     "metadata": {},
     "output_type": "execute_result"
    }
   ],
   "source": [
    "# settaggio periodo di forescast (1settimana)\n",
    "\n",
    "start = datetime(2022, 1, 1)\n",
    "end = datetime(2025, 2, 3)\n",
    "\n",
    "cities = {'Tokyo':[35.652832,139.839478]}\n",
    "\n",
    "# creando un punto per la città di Tokyo\n",
    "city = Point(list(cities.values())[0][0],list(cities.values())[0][1], 20)\n",
    "\n",
    "# dati meteo di Tokyo\n",
    "\n",
    "data = Daily(city, start, end)\n",
    "data = data.fetch()\n",
    "data['city'] = list(cities.keys())[0]\n",
    "\n",
    "data.head()"
   ]
  },
  {
   "cell_type": "code",
   "execution_count": 15,
   "metadata": {},
   "outputs": [
    {
     "name": "stdout",
     "output_type": "stream",
     "text": [
      "<class 'pandas.core.frame.DataFrame'>\n",
      "DatetimeIndex: 1130 entries, 2022-01-01 to 2025-02-03\n",
      "Freq: D\n",
      "Data columns (total 11 columns):\n",
      " #   Column  Non-Null Count  Dtype  \n",
      "---  ------  --------------  -----  \n",
      " 0   tavg    1130 non-null   float64\n",
      " 1   tmin    1130 non-null   float64\n",
      " 2   tmax    1130 non-null   float64\n",
      " 3   prcp    1117 non-null   float64\n",
      " 4   snow    0 non-null      float64\n",
      " 5   wdir    1130 non-null   float64\n",
      " 6   wspd    1130 non-null   float64\n",
      " 7   wpgt    0 non-null      float64\n",
      " 8   pres    1130 non-null   float64\n",
      " 9   tsun    0 non-null      float64\n",
      " 10  city    1130 non-null   object \n",
      "dtypes: float64(10), object(1)\n",
      "memory usage: 105.9+ KB\n"
     ]
    }
   ],
   "source": [
    "data.info()"
   ]
  },
  {
   "cell_type": "code",
   "execution_count": 23,
   "metadata": {},
   "outputs": [
    {
     "name": "stderr",
     "output_type": "stream",
     "text": [
      "TqdmWarning: IProgress not found. Please update jupyter and ipywidgets. See https://ipywidgets.readthedocs.io/en/stable/user_install.html\n"
     ]
    }
   ],
   "source": [
    "import streamlit as st\n",
    "import pandas as pd\n",
    "import numpy as np\n",
    "from prophet import Prophet\n",
    "import plotly.express as px"
   ]
  },
  {
   "cell_type": "code",
   "execution_count": 24,
   "metadata": {},
   "outputs": [],
   "source": [
    "!pip install prophet -q"
   ]
  },
  {
   "cell_type": "code",
   "execution_count": 25,
   "metadata": {},
   "outputs": [
    {
     "name": "stderr",
     "output_type": "stream",
     "text": [
      "2025-02-03 14:58:35.842 Thread 'MainThread': missing ScriptRunContext! This warning can be ignored when running in bare mode.\n",
      "2025-02-03 14:58:35.843 Thread 'MainThread': missing ScriptRunContext! This warning can be ignored when running in bare mode.\n",
      "2025-02-03 14:58:35.896 Thread 'MainThread': missing ScriptRunContext! This warning can be ignored when running in bare mode.\n",
      "2025-02-03 14:58:35.897 Thread 'MainThread': missing ScriptRunContext! This warning can be ignored when running in bare mode.\n",
      "2025-02-03 14:58:35.898 Thread 'MainThread': missing ScriptRunContext! This warning can be ignored when running in bare mode.\n",
      "2025-02-03 14:58:35.898 Thread 'MainThread': missing ScriptRunContext! This warning can be ignored when running in bare mode.\n",
      "2025-02-03 14:58:35.898 Thread 'MainThread': missing ScriptRunContext! This warning can be ignored when running in bare mode.\n",
      "2025-02-03 14:58:35.899 Thread 'MainThread': missing ScriptRunContext! This warning can be ignored when running in bare mode.\n",
      "2025-02-03 14:58:35.900 Thread 'MainThread': missing ScriptRunContext! This warning can be ignored when running in bare mode.\n",
      "2025-02-03 14:58:35.900 Thread 'MainThread': missing ScriptRunContext! This warning can be ignored when running in bare mode.\n",
      "2025-02-03 14:58:35.901 Thread 'MainThread': missing ScriptRunContext! This warning can be ignored when running in bare mode.\n",
      "2025-02-03 14:58:35.901 Thread 'MainThread': missing ScriptRunContext! This warning can be ignored when running in bare mode.\n",
      "2025-02-03 14:58:35.901 Thread 'MainThread': missing ScriptRunContext! This warning can be ignored when running in bare mode.\n",
      "2025-02-03 14:58:35.902 Thread 'MainThread': missing ScriptRunContext! This warning can be ignored when running in bare mode.\n",
      "2025-02-03 14:58:35.902 Thread 'MainThread': missing ScriptRunContext! This warning can be ignored when running in bare mode.\n",
      "14:58:36 - cmdstanpy - INFO - Chain [1] start processing\n",
      "14:58:36 - cmdstanpy - INFO - Chain [1] done processing\n",
      "2025-02-03 14:58:36.778 Thread 'MainThread': missing ScriptRunContext! This warning can be ignored when running in bare mode.\n",
      "2025-02-03 14:58:36.779 Thread 'MainThread': missing ScriptRunContext! This warning can be ignored when running in bare mode.\n",
      "2025-02-03 14:58:36.905 Thread 'MainThread': missing ScriptRunContext! This warning can be ignored when running in bare mode.\n",
      "2025-02-03 14:58:36.906 Thread 'MainThread': missing ScriptRunContext! This warning can be ignored when running in bare mode.\n",
      "2025-02-03 14:58:36.907 Thread 'MainThread': missing ScriptRunContext! This warning can be ignored when running in bare mode.\n",
      "2025-02-03 14:58:36.907 Thread 'MainThread': missing ScriptRunContext! This warning can be ignored when running in bare mode.\n",
      "2025-02-03 14:58:36.908 Thread 'MainThread': missing ScriptRunContext! This warning can be ignored when running in bare mode.\n",
      "2025-02-03 14:58:36.908 Thread 'MainThread': missing ScriptRunContext! This warning can be ignored when running in bare mode.\n",
      "2025-02-03 14:58:36.963 Thread 'MainThread': missing ScriptRunContext! This warning can be ignored when running in bare mode.\n",
      "2025-02-03 14:58:36.963 Thread 'MainThread': missing ScriptRunContext! This warning can be ignored when running in bare mode.\n",
      "2025-02-03 14:58:36.964 Thread 'MainThread': missing ScriptRunContext! This warning can be ignored when running in bare mode.\n",
      "2025-02-03 14:58:36.964 Thread 'MainThread': missing ScriptRunContext! This warning can be ignored when running in bare mode.\n",
      "2025-02-03 14:58:36.965 Thread 'MainThread': missing ScriptRunContext! This warning can be ignored when running in bare mode.\n",
      "2025-02-03 14:58:36.966 Thread 'MainThread': missing ScriptRunContext! This warning can be ignored when running in bare mode.\n",
      "2025-02-03 14:58:36.976 Thread 'MainThread': missing ScriptRunContext! This warning can be ignored when running in bare mode.\n",
      "2025-02-03 14:58:36.977 Thread 'MainThread': missing ScriptRunContext! This warning can be ignored when running in bare mode.\n"
     ]
    }
   ],
   "source": [
    "def get_weather_data():\n",
    "   city = Point(35.652832, 139.839478, 20)\n",
    "   start = datetime(2022, 1, 1)\n",
    "   end = datetime(2025, 2, 3)\n",
    "   \n",
    "   data = Daily(city, start, end).fetch()\n",
    "   data = data.reset_index()\n",
    "   return data\n",
    "\n",
    "def prepare_prophet_data(data, target_col):\n",
    "   prophet_data = data[['time', target_col]].copy()\n",
    "   prophet_data.columns = ['ds', 'y']\n",
    "   prophet_data = prophet_data.dropna()\n",
    "   return prophet_data\n",
    "\n",
    "def make_forecast(data, target_col, days=7):\n",
    "   prophet_data = prepare_prophet_data(data, target_col)\n",
    "   \n",
    "   model = Prophet(daily_seasonality=True)\n",
    "   model.fit(prophet_data)\n",
    "   \n",
    "   future = model.make_future_dataframe(periods=days)\n",
    "   forecast = model.predict(future)\n",
    "   \n",
    "   return forecast\n",
    "\n",
    "def main():\n",
    "   st.title(\"Tokyo Weather Forecast\")\n",
    "   \n",
    "   data = get_weather_data()\n",
    "   \n",
    "   st.sidebar.header(\"Forecast Settings\")\n",
    "   forecast_days = st.sidebar.slider(\"Forecast Days\", 1, 14, 7)\n",
    "   target_column = st.sidebar.selectbox(\n",
    "       \"Select Weather Parameter\",\n",
    "       ['tavg', 'tmin', 'tmax', 'prcp', 'wspd']\n",
    "   )\n",
    "   \n",
    "   forecast = make_forecast(data, target_column, forecast_days)\n",
    "   \n",
    "   st.subheader(\"Historical Data\")\n",
    "   fig_historical = px.line(data, x='time', y=target_column,\n",
    "                          title=f'Historical {target_column} in Tokyo')\n",
    "   st.plotly_chart(fig_historical)\n",
    "   \n",
    "   st.subheader(\"Forecast\")\n",
    "   fig_forecast = px.line(forecast, x='ds', y=['yhat', 'yhat_lower', 'yhat_upper'],\n",
    "                         title=f'{target_column} Forecast for Next {forecast_days} Days')\n",
    "   st.plotly_chart(fig_forecast)\n",
    "   \n",
    "   st.subheader(\"Forecast Values\")\n",
    "   forecast_tail = forecast[['ds', 'yhat', 'yhat_lower', 'yhat_upper']].tail(forecast_days)\n",
    "   forecast_tail.columns = ['Date', 'Forecast', 'Lower Bound', 'Upper Bound']\n",
    "   st.dataframe(forecast_tail)\n",
    "\n",
    "if __name__ == \"__main__\":\n",
    "   main()"
   ]
  },
  {
   "cell_type": "code",
   "execution_count": null,
   "metadata": {},
   "outputs": [],
   "source": []
  }
 ],
 "metadata": {
  "kernelspec": {
   "display_name": "Python 3",
   "language": "python",
   "name": "python3"
  },
  "language_info": {
   "codemirror_mode": {
    "name": "ipython",
    "version": 3
   },
   "file_extension": ".py",
   "mimetype": "text/x-python",
   "name": "python",
   "nbconvert_exporter": "python",
   "pygments_lexer": "ipython3",
   "version": "3.11.9"
  }
 },
 "nbformat": 4,
 "nbformat_minor": 2
}
