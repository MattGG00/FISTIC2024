{
 "cells": [
  {
   "cell_type": "markdown",
   "metadata": {
    "id": "p-Syj2maGZq9"
   },
   "source": [
    "# Sonar"
   ]
  },
  {
   "cell_type": "markdown",
   "metadata": {
    "id": "mONVq41HzC9B"
   },
   "source": [
    "<img src=\"https://frenzy86.s3.eu-west-2.amazonaws.com/python/sonar.jpg\" width=\"800\">"
   ]
  },
  {
   "cell_type": "markdown",
   "metadata": {
    "id": "uxDwyNrzyjL0"
   },
   "source": [
    "http://archive.ics.uci.edu/ml/datasets/connectionist+bench+(sonar,+mines+vs.+rocks)"
   ]
  },
  {
   "cell_type": "markdown",
   "metadata": {
    "id": "_QVKEIsOmkhv"
   },
   "source": [
    "NAME: Sonar, Mines vs. Rocks\n",
    "\n",
    "SUMMARY: This is the data set used by Gorman and Sejnowski in their study of the classification of sonar signals using a neural network [1]. The task is to train a network to discriminate between sonar signals bounced off a metal cylinder and those bounced off a roughly cylindrical rock.\n",
    "\n",
    "SOURCE: The data set was contributed to the benchmark collection by Terry Sejnowski, now at the Salk Institute and the University of California at San Deigo. The data set was developed in collaboration with R. Paul Gorman of Allied-Signal Aerospace Technology Center.\n",
    "\n",
    "MAINTAINER: Scott E. Fahlman\n",
    "\n",
    "PROBLEM DESCRIPTION:\n",
    "\n",
    "The file “sonar.mines” contains 111 patterns obtained by bouncing sonar signals off a metal cylinder at various angles and under various conditions. The file “sonar.rocks” contains 97 patterns obtained from rocks under similar conditions. The transmitted sonar signal is a frequency-modulated chirp, rising in frequency. The data set contains signals obtained from a variety of different aspect angles, spanning 90 degrees for the cylinder and 180 degrees for the rock.\n",
    "\n",
    "Each pattern is a set of 60 numbers in the range 0.0 to 1.0. Each number represents the energy within a particular frequency band, integrated over a certain period of time. The integration aperture for higher frequencies occur later in time, since these frequencies are transmitted later during the chirp.\n",
    "\n",
    "The label associated with each record contains the letter “R” if the object is a rock and “M” if it is a mine (metal cylinder). The numbers in the labels are in increasing order of aspect angle, but they do not encode the angle directly."
   ]
  },
  {
   "cell_type": "code",
   "execution_count": null,
   "metadata": {},
   "outputs": [],
   "source": [
    "pip install summarytools"
   ]
  },
  {
   "cell_type": "code",
   "execution_count": null,
   "metadata": {},
   "outputs": [],
   "source": [
    "import pandas as pd\n",
    "from summarytools import dfSummary\n",
    "import seaborn as sns"
   ]
  },
  {
   "cell_type": "code",
   "execution_count": null,
   "metadata": {
    "colab": {
     "base_uri": "https://localhost:8080/"
    },
    "executionInfo": {
     "elapsed": 1019,
     "status": "ok",
     "timestamp": 1681923715771,
     "user": {
      "displayName": "T3Lab Vision",
      "userId": "14779383426442114373"
     },
     "user_tz": -120
    },
    "id": "VLQaF9Ewo1El",
    "outputId": "a33bd07c-6b7d-4d71-e5d0-62848582329b"
   },
   "outputs": [],
   "source": [
    "# !wget https://frenzy86.s3.eu-west-2.amazonaws.com/python/data/esercizi/sonar.csv\n",
    "path = \"https://frenzy86.s3.eu-west-2.amazonaws.com/python/data/esercizi/sonar.csv\""
   ]
  },
  {
   "cell_type": "code",
   "execution_count": null,
   "metadata": {},
   "outputs": [],
   "source": [
    "df = pd.read_csv(path, header = None)\n",
    "\n",
    "df = df.copy()"
   ]
  },
  {
   "cell_type": "code",
   "execution_count": null,
   "metadata": {},
   "outputs": [],
   "source": [
    "df\n"
   ]
  },
  {
   "cell_type": "code",
   "execution_count": null,
   "metadata": {},
   "outputs": [],
   "source": [
    "dfSummary(df)"
   ]
  },
  {
   "cell_type": "code",
   "execution_count": 90,
   "metadata": {},
   "outputs": [
    {
     "data": {
      "text/plain": [
       "0     0\n",
       "1     0\n",
       "2     0\n",
       "3     0\n",
       "4     0\n",
       "     ..\n",
       "56    0\n",
       "57    0\n",
       "58    0\n",
       "59    0\n",
       "60    0\n",
       "Length: 61, dtype: int64"
      ]
     },
     "execution_count": 90,
     "metadata": {},
     "output_type": "execute_result"
    }
   ],
   "source": [
    "df.isna().sum()"
   ]
  },
  {
   "cell_type": "code",
   "execution_count": null,
   "metadata": {},
   "outputs": [
    {
     "data": {
      "text/plain": [
       "0       1       2       3       4       5       6       7       8       9       10      11      12      13      14      15      16      17      18      19      20      21      22      23      24      25      26      27      28      29      30      31      32      33      34      35      36      37      38      39      40      41      42      43      44      45      46      47      48      49      50      51      52      53      54      55      56      57      58      59      60\n",
       "0.0015  0.0186  0.0289  0.0195  0.0515  0.0817  0.1005  0.0124  0.1168  0.1476  0.2118  0.2575  0.2354  0.1334  0.0092  0.1951  0.3685  0.4646  0.5418  0.6260  0.7420  0.8257  0.8609  0.8400  0.8949  0.9945  1.0000  0.9649  0.8747  0.6257  0.2184  0.2945  0.3645  0.5012  0.7843  0.9361  0.8195  0.6207  0.4513  0.3004  0.2674  0.2241  0.3141  0.3693  0.2986  0.2226  0.0849  0.0359  0.0289  0.0122  0.0045  0.0108  0.0075  0.0089  0.0036  0.0029  0.0013  0.0010  0.0032  0.0047  M     1\n",
       "0.0025  0.0309  0.0171  0.0228  0.0434  0.1224  0.1947  0.1661  0.1368  0.1430  0.0994  0.2250  0.2444  0.3239  0.3039  0.2410  0.0367  0.1672  0.3038  0.4069  0.3613  0.1994  0.4611  0.6849  0.7272  0.7152  0.7102  0.8516  1.0000  0.7690  0.4841  0.3717  0.6096  0.5110  0.2586  0.0916  0.0947  0.2287  0.3480  0.2095  0.1901  0.2941  0.2211  0.1524  0.0746  0.0606  0.0692  0.0446  0.0344  0.0082  0.0108  0.0149  0.0077  0.0036  0.0114  0.0085  0.0101  0.0016  0.0028  0.0014  R     1\n",
       "0.0036  0.0078  0.0092  0.0387  0.0530  0.1197  0.1243  0.1026  0.1239  0.0888  0.0937  0.1245  0.1599  0.1542  0.1846  0.1732  0.1477  0.1748  0.1455  0.1579  0.2257  0.1975  0.3368  0.5828  0.8505  1.0000  0.8457  0.6624  0.5564  0.3925  0.3233  0.2054  0.1920  0.2227  0.3147  0.2268  0.0795  0.0748  0.1166  0.1969  0.2619  0.2507  0.1983  0.0948  0.0931  0.0965  0.0381  0.0435  0.0336  0.0055  0.0079  0.0119  0.0055  0.0035  0.0036  0.0004  0.0018  0.0049  0.0024  0.0016  R     1\n",
       "0.0039  0.0063  0.0152  0.0336  0.0310  0.0284  0.0396  0.0272  0.0323  0.0452  0.0492  0.0996  0.1424  0.1194  0.0628  0.0907  0.1177  0.1429  0.1223  0.1104  0.1847  0.3715  0.4382  0.5707  0.6654  0.7476  0.7654  0.8555  0.9720  0.9221  0.7502  0.7209  0.7757  0.6055  0.5021  0.4499  0.3947  0.4281  0.4427  0.3749  0.1972  0.0511  0.0793  0.1269  0.1533  0.0690  0.0402  0.0534  0.0228  0.0073  0.0062  0.0062  0.0120  0.0052  0.0056  0.0093  0.0042  0.0003  0.0053  0.0036  R     1\n",
       "0.0047  0.0059  0.0080  0.0554  0.0883  0.1278  0.1674  0.1373  0.2922  0.3469  0.3265  0.3263  0.2301  0.1253  0.2102  0.2401  0.1928  0.1673  0.1228  0.0902  0.1557  0.3291  0.5268  0.6740  0.7906  0.8938  0.9395  0.9493  0.9040  0.9151  0.8828  0.8086  0.7180  0.6720  0.6447  0.6879  0.6241  0.4936  0.4144  0.4240  0.4546  0.4392  0.4323  0.4921  0.4710  0.3196  0.2241  0.1806  0.0990  0.0251  0.0129  0.0095  0.0126  0.0069  0.0039  0.0068  0.0060  0.0045  0.0002  0.0029  M     1\n",
       "                                                                                                                                                                                                                                                                                                                                                                                                                                                                                                     ..\n",
       "0.1083  0.1070  0.0257  0.0837  0.0748  0.1125  0.3322  0.4590  0.5526  0.5966  0.5304  0.2251  0.2402  0.2689  0.6646  0.6632  0.1674  0.0837  0.4331  0.8718  0.7992  0.3712  0.1703  0.1611  0.2086  0.2847  0.2211  0.6134  0.5807  0.6925  0.3825  0.4303  0.7791  0.8703  1.0000  0.9212  0.9386  0.9303  0.7314  0.4791  0.2087  0.2016  0.1669  0.2872  0.4374  0.3097  0.1578  0.0553  0.0334  0.0209  0.0172  0.0180  0.0110  0.0234  0.0276  0.0032  0.0084  0.0122  0.0082  0.0143  M     1\n",
       "0.1088  0.1278  0.0926  0.1234  0.1276  0.1731  0.1948  0.4262  0.6828  0.5761  0.4733  0.2362  0.1023  0.2904  0.4713  0.4659  0.1415  0.0849  0.3257  0.9007  0.9312  0.4856  0.1346  0.1604  0.2737  0.5609  0.3654  0.6139  0.5470  0.8474  0.5638  0.5443  0.5086  0.6253  0.8497  0.8406  0.8420  0.9136  0.7713  0.4882  0.3724  0.4469  0.4586  0.4491  0.5616  0.4305  0.0945  0.0794  0.0274  0.0154  0.0140  0.0455  0.0213  0.0082  0.0124  0.0167  0.0103  0.0205  0.0178  0.0187  M     1\n",
       "0.1150  0.1163  0.0866  0.0358  0.0232  0.1267  0.2417  0.2661  0.4346  0.5378  0.3816  0.0991  0.0616  0.1795  0.3907  0.3602  0.3041  0.2428  0.4060  0.8395  0.9777  0.4680  0.0610  0.2143  0.1348  0.2854  0.1617  0.2649  0.4565  0.6502  0.2848  0.3296  0.5370  0.6627  0.8626  0.8547  0.7848  0.9016  0.8827  0.6086  0.2810  0.0906  0.1177  0.2694  0.5214  0.4232  0.2340  0.1928  0.1092  0.0507  0.0228  0.0099  0.0065  0.0085  0.0166  0.0110  0.0190  0.0141  0.0068  0.0086  M     1\n",
       "0.1313  0.2339  0.3059  0.4264  0.4010  0.1791  0.1853  0.0055  0.1929  0.2231  0.2907  0.2259  0.3136  0.3302  0.3660  0.3956  0.4386  0.4670  0.5255  0.3735  0.2243  0.1973  0.4337  0.6532  0.5070  0.2796  0.4163  0.5950  0.5242  0.4178  0.3714  0.2375  0.0863  0.1437  0.2896  0.4577  0.3725  0.3372  0.3803  0.4181  0.3603  0.2711  0.1653  0.1951  0.2811  0.2246  0.1921  0.1500  0.0665  0.0193  0.0156  0.0362  0.0210  0.0154  0.0180  0.0013  0.0106  0.0127  0.0178  0.0231  M     1\n",
       "0.1371  0.1226  0.1385  0.1484  0.1776  0.1428  0.1773  0.2161  0.1630  0.2067  0.4257  0.5484  0.7131  0.7003  0.6777  0.7939  0.9382  0.8925  0.9146  0.7832  0.7960  0.7983  0.7716  0.6615  0.4860  0.5572  0.4697  0.5640  0.4517  0.3369  0.2684  0.2339  0.3052  0.3016  0.2753  0.1041  0.1757  0.3156  0.3603  0.2736  0.1301  0.2458  0.3404  0.1753  0.0679  0.1062  0.0643  0.0532  0.0531  0.0272  0.0171  0.0118  0.0129  0.0344  0.0065  0.0067  0.0022  0.0079  0.0146  0.0051  M     1\n",
       "Name: count, Length: 208, dtype: int64"
      ]
     },
     "execution_count": 94,
     "metadata": {},
     "output_type": "execute_result"
    }
   ],
   "source": []
  },
  {
   "cell_type": "code",
   "execution_count": null,
   "metadata": {},
   "outputs": [],
   "source": []
  }
 ],
 "metadata": {
  "colab": {
   "provenance": []
  },
  "kernelspec": {
   "display_name": "Python 3",
   "name": "python3"
  },
  "language_info": {
   "codemirror_mode": {
    "name": "ipython",
    "version": 3
   },
   "file_extension": ".py",
   "mimetype": "text/x-python",
   "name": "python",
   "nbconvert_exporter": "python",
   "pygments_lexer": "ipython3",
   "version": "3.11.9"
  }
 },
 "nbformat": 4,
 "nbformat_minor": 0
}
