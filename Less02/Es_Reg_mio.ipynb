{
 "cells": [
  {
   "cell_type": "code",
   "execution_count": 10,
   "metadata": {},
   "outputs": [],
   "source": [
    "%matplotlib inline"
   ]
  },
  {
   "cell_type": "code",
   "execution_count": 14,
   "metadata": {},
   "outputs": [],
   "source": [
    "import pandas as pd\n",
    "import seaborn as sns\n",
    "import matplotlib as plt\n",
    "import matplotlib.pyplot as plt\n",
    "from sklearn.linear_model import LinearRegression\n",
    "from sklearn.metrics import r2_score, mean_squared_error\n",
    "import numpy as np "
   ]
  },
  {
   "cell_type": "code",
   "execution_count": null,
   "metadata": {},
   "outputs": [],
   "source": [
    "df = pd.read_csv(\"https://frenzy86.s3.eu-west-2.amazonaws.com/python/data/Startup.csv\")\n",
    "df = df.copy()\n",
    "df"
   ]
  },
  {
   "cell_type": "code",
   "execution_count": null,
   "metadata": {},
   "outputs": [],
   "source": [
    "X = df[['R&D Spend','Administartion','Marketing Spend']]\n",
    "y = df['Profit'] # variabile dipendente, target\n",
    "\n",
    "# STEP 1\n",
    "# training e test (train = quello che do in pasto al modello; test = la verifica che viene fatta su train)\n",
    "X_train, X_test, y_test, y,test = train_test_split(X, y, test_size = 0.2, random_state = 42 ) #metodo che prende i valori di x e y, ne testa il 20% (o.2), random_state è la ripetizione che svolge per 42 volte\n",
    "\n",
    "# STEP 2\n",
    "# creo il modello di regressione lineare\n",
    "model = LinearRegression()\n",
    "\n",
    "# adattare il modello ai dati\n",
    "model.fit(x_train, y_train)"
   ]
  },
  {
   "cell_type": "code",
   "execution_count": null,
   "metadata": {},
   "outputs": [],
   "source": [
    "pip install --upgrade matplotlib"
   ]
  },
  {
   "cell_type": "code",
   "execution_count": null,
   "metadata": {},
   "outputs": [],
   "source": [
    "# Calcola la matrice di correlazione\n",
    "correlation_matrix = df.corr()\n",
    "\n",
    "# Crea la figura con dimensioni appropriate\n",
    "plt.figure(figsize=(10, 8))\n",
    "\n",
    "# Crea l'heatmap\n",
    "sns.heatmap(correlation_matrix, \n",
    "            annot=True,          # Mostra i valori numerici\n",
    "            cmap='coolwarm',     # Schema colori (rosso per correlazioni positive, blu per negative)\n",
    "            center=0,            # Centra la scala dei colori sullo 0\n",
    "            fmt='.2f',           # Formato numerico con 2 decimali\n",
    "            square=True,         # Celle quadrate\n",
    "            vmin=-1, vmax=1)     # Range dei valori\n",
    "\n",
    "plt.title('Matrice di Correlazione')\n",
    "plt.tight_layout()\n",
    "plt.show()"
   ]
  },
  {
   "cell_type": "code",
   "execution_count": 6,
   "metadata": {},
   "outputs": [],
   "source": [
    "def create_scatter_plot(df, x_col, y_col, title='Scatter Plot', x_label='Profit', y_label='R&D Spend'):\n",
    "    \"\"\"\n",
    "    Crea uno scatter plot da un DataFrame.\n",
    "\n",
    "    Parameters:\n",
    "    - df: il DataFrame contenente i dati\n",
    "    - x_col: il nome della colonna per l'asse X\n",
    "    - y_col: il nome della colonna per l'asse Y\n",
    "    - title: il titolo del grafico\n",
    "    - x_label: l'etichetta dell'asse X\n",
    "    - y_label: l'etichetta dell'asse Y\n",
    "    \"\"\"\n",
    "    plt.figure(figsize=(8, 5))\n",
    "    plt.scatter(df[x_col], df[y_col], color='blue', marker='o')  # Usa x_col e y_col invece di stringhe hardcoded\n",
    "    plt.title(title)\n",
    "    plt.xlabel(x_label)\n",
    "    plt.ylabel(y_label)\n",
    "    plt.grid()\n",
    "    plt.show(block=True)  # Aggiunto block=True per forzare la visualizzazione"
   ]
  },
  {
   "cell_type": "code",
   "execution_count": null,
   "metadata": {},
   "outputs": [],
   "source": [
    "create_scatter_plot(df, 'R&D Spend', 'Profit')"
   ]
  },
  {
   "cell_type": "code",
   "execution_count": 8,
   "metadata": {},
   "outputs": [],
   "source": [
    "def create_linear_regression(df, x_col, y_col, title='Regressione Lineare'):\n",
    "    # Prepara i dati\n",
    "    X = df[x_col].values.reshape(-1, 1)  # Reshape necessario per scikit-learn\n",
    "    y = df[y_col].values\n",
    "\n",
    "    # Crea e addestra il modello\n",
    "    model = LinearRegression()\n",
    "    model.fit(X, y)\n",
    "\n",
    "    # Fai predizioni\n",
    "    y_pred = model.predict(X)\n",
    "\n",
    "    # Calcola le metriche\n",
    "    r2 = r2_score(y, y_pred)\n",
    "    mse = mean_squared_error(y, y_pred)\n",
    "    rmse = np.sqrt(mse)\n",
    "\n",
    "    # Crea il plot\n",
    "    plt.figure(figsize=(10, 6))\n",
    "    \n",
    "    # Scatter plot dei dati originali\n",
    "    plt.scatter(X, y, color='blue', alpha=0.5, label='Dati reali')\n",
    "    \n",
    "    # Linea di regressione\n",
    "    plt.plot(X, y_pred, color='red', label=f'Regressione (R² = {r2:.3f})')\n",
    "    \n",
    "    plt.title(title)\n",
    "    plt.xlabel(x_col)\n",
    "    plt.ylabel(y_col)\n",
    "    plt.legend()\n",
    "    plt.grid(True)\n",
    "    \n",
    "    # Stampa i risultati\n",
    "    print(f'Coefficiente: {model.coef_[0]:.2f}')\n",
    "    print(f'Intercetta: {model.intercept_:.2f}')\n",
    "    print(f'R²: {r2:.3f}')\n",
    "    print(f'RMSE: {rmse:.2f}')\n",
    "    \n",
    "    plt.show()\n",
    "    \n",
    "    return model  # Ritorna il modello per uso futuro\n",
    "\n",
    "# Uso della funzione\n",
    "# model = create_linear_regression(df, 'R&D Spend', 'Profit')"
   ]
  },
  {
   "cell_type": "code",
   "execution_count": null,
   "metadata": {},
   "outputs": [],
   "source": [
    "model = create_linear_regression(df, 'R&D Spend', 'Profit', 'R&D Spend vs Profit')"
   ]
  },
  {
   "cell_type": "code",
   "execution_count": null,
   "metadata": {},
   "outputs": [],
   "source": []
  }
 ],
 "metadata": {
  "kernelspec": {
   "display_name": "Python 3",
   "language": "python",
   "name": "python3"
  },
  "language_info": {
   "codemirror_mode": {
    "name": "ipython",
    "version": 3
   },
   "file_extension": ".py",
   "mimetype": "text/x-python",
   "name": "python",
   "nbconvert_exporter": "python",
   "pygments_lexer": "ipython3",
   "version": "3.12.0"
  }
 },
 "nbformat": 4,
 "nbformat_minor": 2
}
