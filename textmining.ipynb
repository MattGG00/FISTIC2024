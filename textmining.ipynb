{
 "cells": [
  {
   "cell_type": "code",
   "execution_count": 41,
   "metadata": {},
   "outputs": [
    {
     "name": "stdout",
     "output_type": "stream",
     "text": [
      "Requirement already satisfied: spicy in c:\\users\\utente\\appdata\\local\\programs\\python\\python311\\lib\\site-packages (0.16.0)\n",
      "Requirement already satisfied: scipy in c:\\users\\utente\\appdata\\local\\programs\\python\\python311\\lib\\site-packages (from spicy) (1.14.1)\n",
      "Requirement already satisfied: numpy<2.3,>=1.23.5 in c:\\users\\utente\\appdata\\local\\programs\\python\\python311\\lib\\site-packages (from scipy->spicy) (1.26.4)\n"
     ]
    },
    {
     "name": "stderr",
     "output_type": "stream",
     "text": [
      "\n",
      "[notice] A new release of pip is available: 25.0 -> 25.0.1\n",
      "[notice] To update, run: python.exe -m pip install --upgrade pip\n"
     ]
    }
   ],
   "source": [
    "!pip install spicy"
   ]
  },
  {
   "cell_type": "code",
   "execution_count": 42,
   "metadata": {},
   "outputs": [],
   "source": [
    "import spacy"
   ]
  },
  {
   "cell_type": "code",
   "execution_count": 43,
   "metadata": {},
   "outputs": [
    {
     "name": "stdout",
     "output_type": "stream",
     "text": [
      "Ciao a tutti ragazzi! valle d'Aosta \n"
     ]
    }
   ],
   "source": [
    "# Import spaCy and load the language library\n",
    "nlp = spacy.load('it_core_news_md')\n",
    "\n",
    "# Create a string that includes opening and closing quotation marks\n",
    "itadoc = nlp(\"Ciao a tutti ragazzi! valle d'Aosta \")\n",
    "print(itadoc)"
   ]
  },
  {
   "cell_type": "code",
   "execution_count": 44,
   "metadata": {},
   "outputs": [
    {
     "name": "stdout",
     "output_type": "stream",
     "text": [
      "Collecting it-core-news-md==3.8.0\n",
      "  Downloading https://github.com/explosion/spacy-models/releases/download/it_core_news_md-3.8.0/it_core_news_md-3.8.0-py3-none-any.whl (42.4 MB)\n",
      "     ---------------------------------------- 0.0/42.4 MB ? eta -:--:--\n",
      "     --- ------------------------------------ 3.9/42.4 MB 23.5 MB/s eta 0:00:02\n",
      "     -------- ------------------------------- 8.7/42.4 MB 23.4 MB/s eta 0:00:02\n",
      "     ----------- --------------------------- 12.3/42.4 MB 20.9 MB/s eta 0:00:02\n",
      "     -------------- ------------------------ 15.7/42.4 MB 19.8 MB/s eta 0:00:02\n",
      "     ---------------- ---------------------- 18.4/42.4 MB 18.7 MB/s eta 0:00:02\n",
      "     ------------------ -------------------- 20.2/42.4 MB 17.0 MB/s eta 0:00:02\n",
      "     -------------------- ------------------ 22.8/42.4 MB 16.2 MB/s eta 0:00:02\n",
      "     ----------------------- --------------- 25.2/42.4 MB 15.5 MB/s eta 0:00:02\n",
      "     ------------------------- ------------- 27.5/42.4 MB 14.9 MB/s eta 0:00:01\n",
      "     --------------------------- ----------- 29.6/42.4 MB 14.6 MB/s eta 0:00:01\n",
      "     ----------------------------- --------- 32.0/42.4 MB 14.2 MB/s eta 0:00:01\n",
      "     ------------------------------- ------- 33.8/42.4 MB 13.9 MB/s eta 0:00:01\n",
      "     --------------------------------- ----- 35.9/42.4 MB 13.5 MB/s eta 0:00:01\n",
      "     ---------------------------------- ---- 37.7/42.4 MB 13.3 MB/s eta 0:00:01\n",
      "     ------------------------------------- - 40.4/42.4 MB 13.1 MB/s eta 0:00:01\n",
      "     --------------------------------------  42.2/42.4 MB 13.0 MB/s eta 0:00:01\n",
      "     --------------------------------------- 42.4/42.4 MB 12.6 MB/s eta 0:00:00\n",
      "\u001b[38;5;2m✔ Download and installation successful\u001b[0m\n",
      "You can now load the package via spacy.load('it_core_news_md')\n"
     ]
    },
    {
     "name": "stderr",
     "output_type": "stream",
     "text": [
      "\n",
      "[notice] A new release of pip is available: 25.0 -> 25.0.1\n",
      "[notice] To update, run: python.exe -m pip install --upgrade pip\n"
     ]
    }
   ],
   "source": [
    "!python -m spacy download it_core_news_md"
   ]
  },
  {
   "cell_type": "code",
   "execution_count": 45,
   "metadata": {},
   "outputs": [
    {
     "name": "stdout",
     "output_type": "stream",
     "text": [
      "La DET\n",
      "città NOUN\n",
      "di ADP\n",
      "Venezia PROPN\n",
      ", PUNCT\n",
      "con ADP\n",
      "i DET\n",
      "suoi DET\n",
      "118 NUM\n",
      "isolotti NOUN\n",
      "collegati VERB\n",
      "da ADP\n",
      "ponti NOUN\n",
      "pittoreschi ADJ\n",
      ", PUNCT\n",
      "è AUX\n",
      "un DET\n",
      "gioiello NOUN\n",
      "dell' ADP\n",
      "architettura NOUN\n",
      "italiana ADJ\n",
      ". PUNCT\n"
     ]
    }
   ],
   "source": [
    "import spacy\n",
    "nlp = spacy.load('it_core_news_md')\n",
    "\n",
    "# Create a Doc object\n",
    "doc = nlp(\"La città di Venezia, con i suoi 118 isolotti collegati da ponti pittoreschi, è un gioiello dell'architettura italiana.\")\n",
    "\n",
    "# Print each token separately\n",
    "for token in doc:\n",
    "    print(token.text, token.pos_)"
   ]
  },
  {
   "cell_type": "code",
   "execution_count": 46,
   "metadata": {},
   "outputs": [
    {
     "data": {
      "text/plain": [
       "[('tok2vec', <spacy.pipeline.tok2vec.Tok2Vec at 0x23f49f2f830>),\n",
       " ('morphologizer',\n",
       "  <spacy.pipeline.morphologizer.Morphologizer at 0x23f49f2ea50>),\n",
       " ('tagger', <spacy.pipeline.tagger.Tagger at 0x23f49f2f3b0>),\n",
       " ('parser', <spacy.pipeline.dep_parser.DependencyParser at 0x23f17648430>),\n",
       " ('lemmatizer',\n",
       "  <spacy.pipeline.edit_tree_lemmatizer.EditTreeLemmatizer at 0x23f49f2ec30>),\n",
       " ('attribute_ruler',\n",
       "  <spacy.pipeline.attributeruler.AttributeRuler at 0x23f542fa310>),\n",
       " ('ner', <spacy.pipeline.ner.EntityRecognizer at 0x23f17648ac0>)]"
      ]
     },
     "execution_count": 46,
     "metadata": {},
     "output_type": "execute_result"
    }
   ],
   "source": [
    "nlp.pipeline"
   ]
  },
  {
   "cell_type": "code",
   "execution_count": 47,
   "metadata": {},
   "outputs": [
    {
     "data": {
      "text/plain": [
       "['tok2vec',\n",
       " 'morphologizer',\n",
       " 'tagger',\n",
       " 'parser',\n",
       " 'lemmatizer',\n",
       " 'attribute_ruler',\n",
       " 'ner']"
      ]
     },
     "execution_count": 47,
     "metadata": {},
     "output_type": "execute_result"
    }
   ],
   "source": [
    "nlp.pipe_names"
   ]
  },
  {
   "cell_type": "code",
   "execution_count": 48,
   "metadata": {},
   "outputs": [
    {
     "name": "stdout",
     "output_type": "stream",
     "text": [
      "\u001b[38;5;2m✔ Download and installation successful\u001b[0m\n",
      "You can now load the package via spacy.load('en_core_web_md')\n"
     ]
    },
    {
     "name": "stderr",
     "output_type": "stream",
     "text": [
      "\n",
      "[notice] A new release of pip is available: 25.0 -> 25.0.1\n",
      "[notice] To update, run: python.exe -m pip install --upgrade pip\n"
     ]
    }
   ],
   "source": [
    "!python -m spacy download en_core_web_md --q"
   ]
  },
  {
   "cell_type": "code",
   "execution_count": 49,
   "metadata": {},
   "outputs": [],
   "source": [
    "from spacy import displacy\n",
    "from spacy.lang.en.stop_words import STOP_WORDS"
   ]
  },
  {
   "cell_type": "code",
   "execution_count": 50,
   "metadata": {},
   "outputs": [
    {
     "data": {
      "text/html": [
       "<span class=\"tex2jax_ignore\"><div class=\"entities\" style=\"line-height: 2.5; direction: ltr\">\n",
       "<mark class=\"entity\" style=\"background: #feca74; padding: 0.45em 0.6em; margin: 0 0.25em; line-height: 1; border-radius: 0.35em;\">\n",
       "    New York City\n",
       "    <span style=\"font-size: 0.8em; font-weight: bold; line-height: 1; border-radius: 0.35em; vertical-align: middle; margin-left: 0.5rem\">GPE</span>\n",
       "</mark>\n",
       " on \n",
       "<mark class=\"entity\" style=\"background: #bfe1d9; padding: 0.45em 0.6em; margin: 0 0.25em; line-height: 1; border-radius: 0.35em;\">\n",
       "    Tuesday\n",
       "    <span style=\"font-size: 0.8em; font-weight: bold; line-height: 1; border-radius: 0.35em; vertical-align: middle; margin-left: 0.5rem\">DATE</span>\n",
       "</mark>\n",
       " declared a public health emergency and ordered mandatory measles vaccinations amid an outbreak, becoming the latest national flash point over refusals to inoculate against dangerous diseases. \n",
       "<mark class=\"entity\" style=\"background: #e4e7d2; padding: 0.45em 0.6em; margin: 0 0.25em; line-height: 1; border-radius: 0.35em;\">\n",
       "    At least 285\n",
       "    <span style=\"font-size: 0.8em; font-weight: bold; line-height: 1; border-radius: 0.35em; vertical-align: middle; margin-left: 0.5rem\">CARDINAL</span>\n",
       "</mark>\n",
       " people have contracted measles in the city since \n",
       "<mark class=\"entity\" style=\"background: #bfe1d9; padding: 0.45em 0.6em; margin: 0 0.25em; line-height: 1; border-radius: 0.35em;\">\n",
       "    September\n",
       "    <span style=\"font-size: 0.8em; font-weight: bold; line-height: 1; border-radius: 0.35em; vertical-align: middle; margin-left: 0.5rem\">DATE</span>\n",
       "</mark>\n",
       ", mostly in \n",
       "<mark class=\"entity\" style=\"background: #feca74; padding: 0.45em 0.6em; margin: 0 0.25em; line-height: 1; border-radius: 0.35em;\">\n",
       "    Brooklyn\n",
       "    <span style=\"font-size: 0.8em; font-weight: bold; line-height: 1; border-radius: 0.35em; vertical-align: middle; margin-left: 0.5rem\">GPE</span>\n",
       "</mark>\n",
       "’s \n",
       "<mark class=\"entity\" style=\"background: #feca74; padding: 0.45em 0.6em; margin: 0 0.25em; line-height: 1; border-radius: 0.35em;\">\n",
       "    Williamsburg\n",
       "    <span style=\"font-size: 0.8em; font-weight: bold; line-height: 1; border-radius: 0.35em; vertical-align: middle; margin-left: 0.5rem\">GPE</span>\n",
       "</mark>\n",
       " neighborhood. The order covers \n",
       "<mark class=\"entity\" style=\"background: #e4e7d2; padding: 0.45em 0.6em; margin: 0 0.25em; line-height: 1; border-radius: 0.35em;\">\n",
       "    four\n",
       "    <span style=\"font-size: 0.8em; font-weight: bold; line-height: 1; border-radius: 0.35em; vertical-align: middle; margin-left: 0.5rem\">CARDINAL</span>\n",
       "</mark>\n",
       " zip codes there, Mayor \n",
       "<mark class=\"entity\" style=\"background: #aa9cfc; padding: 0.45em 0.6em; margin: 0 0.25em; line-height: 1; border-radius: 0.35em;\">\n",
       "    Bill de Blasio\n",
       "    <span style=\"font-size: 0.8em; font-weight: bold; line-height: 1; border-radius: 0.35em; vertical-align: middle; margin-left: 0.5rem\">PERSON</span>\n",
       "</mark>\n",
       " (D) said \n",
       "<mark class=\"entity\" style=\"background: #bfe1d9; padding: 0.45em 0.6em; margin: 0 0.25em; line-height: 1; border-radius: 0.35em;\">\n",
       "    Tuesday\n",
       "    <span style=\"font-size: 0.8em; font-weight: bold; line-height: 1; border-radius: 0.35em; vertical-align: middle; margin-left: 0.5rem\">DATE</span>\n",
       "</mark>\n",
       ". The mandate orders all unvaccinated people in the area, including a concentration of \n",
       "<mark class=\"entity\" style=\"background: #c887fb; padding: 0.45em 0.6em; margin: 0 0.25em; line-height: 1; border-radius: 0.35em;\">\n",
       "    Orthodox\n",
       "    <span style=\"font-size: 0.8em; font-weight: bold; line-height: 1; border-radius: 0.35em; vertical-align: middle; margin-left: 0.5rem\">NORP</span>\n",
       "</mark>\n",
       " \n",
       "<mark class=\"entity\" style=\"background: #c887fb; padding: 0.45em 0.6em; margin: 0 0.25em; line-height: 1; border-radius: 0.35em;\">\n",
       "    Jews\n",
       "    <span style=\"font-size: 0.8em; font-weight: bold; line-height: 1; border-radius: 0.35em; vertical-align: middle; margin-left: 0.5rem\">NORP</span>\n",
       "</mark>\n",
       ", to receive inoculations, including for children as young as \n",
       "<mark class=\"entity\" style=\"background: #bfe1d9; padding: 0.45em 0.6em; margin: 0 0.25em; line-height: 1; border-radius: 0.35em;\">\n",
       "    6 months old\n",
       "    <span style=\"font-size: 0.8em; font-weight: bold; line-height: 1; border-radius: 0.35em; vertical-align: middle; margin-left: 0.5rem\">DATE</span>\n",
       "</mark>\n",
       ". Anyone who resists could be fined \n",
       "<mark class=\"entity\" style=\"background: #e4e7d2; padding: 0.45em 0.6em; margin: 0 0.25em; line-height: 1; border-radius: 0.35em;\">\n",
       "    up to $ 1,000\n",
       "    <span style=\"font-size: 0.8em; font-weight: bold; line-height: 1; border-radius: 0.35em; vertical-align: middle; margin-left: 0.5rem\">MONEY</span>\n",
       "</mark>\n",
       ".</div></span>"
      ],
      "text/plain": [
       "<IPython.core.display.HTML object>"
      ]
     },
     "metadata": {},
     "output_type": "display_data"
    }
   ],
   "source": [
    "nlp = spacy.load('en_core_web_md')\n",
    "endoc = nlp(\"New York City on Tuesday declared a public health emergency and ordered mandatory measles vaccinations amid an outbreak, becoming the latest national flash point over refusals to inoculate against dangerous diseases. At least 285 people have contracted measles in the city since September, mostly in Brooklyn’s Williamsburg neighborhood. The order covers four zip codes there, Mayor Bill de Blasio (D) said Tuesday. The mandate orders all unvaccinated people in the area, including a concentration of Orthodox Jews, to receive inoculations, including for children as young as 6 months old. Anyone who resists could be fined up to $ 1,000.\")\n",
    "\n",
    "options = {\"compact\":True,\"color\": \"darkgreen\", \"add_lemma\": True, \"distance\": 100 }\n",
    "displacy.render(endoc, options = options, style = 'ent', jupyter=True)"
   ]
  },
  {
   "cell_type": "code",
   "execution_count": 51,
   "metadata": {},
   "outputs": [
    {
     "data": {
      "text/html": [
       "<span class=\"tex2jax_ignore\"><div class=\"entities\" style=\"line-height: 2.5; direction: ltr\">\n",
       "<mark class=\"entity\" style=\"background: #aa9cfc; padding: 0.45em 0.6em; margin: 0 0.25em; line-height: 1; border-radius: 0.35em;\">\n",
       "    Jeff Bezos\n",
       "    <span style=\"font-size: 0.8em; font-weight: bold; line-height: 1; border-radius: 0.35em; vertical-align: middle; margin-left: 0.5rem\">PERSON</span>\n",
       "</mark>\n",
       ", founder and CEO of \n",
       "<mark class=\"entity\" style=\"background: #7aecec; padding: 0.45em 0.6em; margin: 0 0.25em; line-height: 1; border-radius: 0.35em;\">\n",
       "    Amazon\n",
       "    <span style=\"font-size: 0.8em; font-weight: bold; line-height: 1; border-radius: 0.35em; vertical-align: middle; margin-left: 0.5rem\">ORG</span>\n",
       "</mark>\n",
       ", an ecommerce company with headquarter in \n",
       "<mark class=\"entity\" style=\"background: #feca74; padding: 0.45em 0.6em; margin: 0 0.25em; line-height: 1; border-radius: 0.35em;\">\n",
       "    Seattle\n",
       "    <span style=\"font-size: 0.8em; font-weight: bold; line-height: 1; border-radius: 0.35em; vertical-align: middle; margin-left: 0.5rem\">GPE</span>\n",
       "</mark>\n",
       ", became the world richest man on \n",
       "<mark class=\"entity\" style=\"background: #bfe1d9; padding: 0.45em 0.6em; margin: 0 0.25em; line-height: 1; border-radius: 0.35em;\">\n",
       "    October 2017\n",
       "    <span style=\"font-size: 0.8em; font-weight: bold; line-height: 1; border-radius: 0.35em; vertical-align: middle; margin-left: 0.5rem\">DATE</span>\n",
       "</mark>\n",
       " with a net worth of \n",
       "<mark class=\"entity\" style=\"background: #e4e7d2; padding: 0.45em 0.6em; margin: 0 0.25em; line-height: 1; border-radius: 0.35em;\">\n",
       "    90 billions\n",
       "    <span style=\"font-size: 0.8em; font-weight: bold; line-height: 1; border-radius: 0.35em; vertical-align: middle; margin-left: 0.5rem\">MONEY</span>\n",
       "</mark>\n",
       " \n",
       "<mark class=\"entity\" style=\"background: #bfeeb7; padding: 0.45em 0.6em; margin: 0 0.25em; line-height: 1; border-radius: 0.35em;\">\n",
       "    USD\n",
       "    <span style=\"font-size: 0.8em; font-weight: bold; line-height: 1; border-radius: 0.35em; vertical-align: middle; margin-left: 0.5rem\">PRODUCT</span>\n",
       "</mark>\n",
       "</div></span>"
      ],
      "text/plain": [
       "<IPython.core.display.HTML object>"
      ]
     },
     "metadata": {},
     "output_type": "display_data"
    }
   ],
   "source": [
    "nlp = spacy.load(\"en_core_web_sm\")\n",
    "doc = nlp(\"Jeff Bezos, founder and CEO of Amazon, an ecommerce company with headquarter in Seattle, became the world richest man on October 2017 with a net worth of 90 billions USD\")\n",
    "\n",
    "displacy.render(doc, style='ent', jupyter=True)"
   ]
  },
  {
   "cell_type": "code",
   "execution_count": 52,
   "metadata": {},
   "outputs": [
    {
     "name": "stderr",
     "output_type": "stream",
     "text": [
      "2025-02-18 12:47:31.873 Thread 'MainThread': missing ScriptRunContext! This warning can be ignored when running in bare mode.\n",
      "2025-02-18 12:47:31.874 Thread 'MainThread': missing ScriptRunContext! This warning can be ignored when running in bare mode.\n",
      "2025-02-18 12:47:31.875 Thread 'MainThread': missing ScriptRunContext! This warning can be ignored when running in bare mode.\n",
      "2025-02-18 12:47:31.876 Thread 'MainThread': missing ScriptRunContext! This warning can be ignored when running in bare mode.\n",
      "2025-02-18 12:47:31.876 Thread 'MainThread': missing ScriptRunContext! This warning can be ignored when running in bare mode.\n",
      "2025-02-18 12:47:31.877 Thread 'MainThread': missing ScriptRunContext! This warning can be ignored when running in bare mode.\n",
      "2025-02-18 12:47:31.877 Thread 'MainThread': missing ScriptRunContext! This warning can be ignored when running in bare mode.\n",
      "2025-02-18 12:47:31.878 Thread 'MainThread': missing ScriptRunContext! This warning can be ignored when running in bare mode.\n",
      "2025-02-18 12:47:31.879 Thread 'MainThread': missing ScriptRunContext! This warning can be ignored when running in bare mode.\n",
      "2025-02-18 12:47:31.879 Thread 'MainThread': missing ScriptRunContext! This warning can be ignored when running in bare mode.\n",
      "2025-02-18 12:47:31.880 Thread 'MainThread': missing ScriptRunContext! This warning can be ignored when running in bare mode.\n",
      "2025-02-18 12:47:31.881 Thread 'MainThread': missing ScriptRunContext! This warning can be ignored when running in bare mode.\n",
      "2025-02-18 12:47:31.881 Thread 'MainThread': missing ScriptRunContext! This warning can be ignored when running in bare mode.\n",
      "2025-02-18 12:47:31.882 Thread 'MainThread': missing ScriptRunContext! This warning can be ignored when running in bare mode.\n",
      "2025-02-18 12:47:31.882 Thread 'MainThread': missing ScriptRunContext! This warning can be ignored when running in bare mode.\n",
      "2025-02-18 12:47:31.883 Thread 'MainThread': missing ScriptRunContext! This warning can be ignored when running in bare mode.\n",
      "2025-02-18 12:47:31.883 Thread 'MainThread': missing ScriptRunContext! This warning can be ignored when running in bare mode.\n",
      "2025-02-18 12:47:31.884 Thread 'MainThread': missing ScriptRunContext! This warning can be ignored when running in bare mode.\n",
      "2025-02-18 12:47:31.884 Thread 'MainThread': missing ScriptRunContext! This warning can be ignored when running in bare mode.\n",
      "2025-02-18 12:47:31.885 Thread 'MainThread': missing ScriptRunContext! This warning can be ignored when running in bare mode.\n",
      "2025-02-18 12:47:31.885 Thread 'MainThread': missing ScriptRunContext! This warning can be ignored when running in bare mode.\n",
      "2025-02-18 12:47:31.887 Thread 'MainThread': missing ScriptRunContext! This warning can be ignored when running in bare mode.\n",
      "2025-02-18 12:47:31.888 Thread 'MainThread': missing ScriptRunContext! This warning can be ignored when running in bare mode.\n",
      "2025-02-18 12:47:31.889 Thread 'MainThread': missing ScriptRunContext! This warning can be ignored when running in bare mode.\n",
      "2025-02-18 12:47:31.889 Thread 'MainThread': missing ScriptRunContext! This warning can be ignored when running in bare mode.\n",
      "2025-02-18 12:47:31.890 Thread 'MainThread': missing ScriptRunContext! This warning can be ignored when running in bare mode.\n",
      "2025-02-18 12:47:31.890 Thread 'MainThread': missing ScriptRunContext! This warning can be ignored when running in bare mode.\n",
      "2025-02-18 12:47:31.891 Thread 'MainThread': missing ScriptRunContext! This warning can be ignored when running in bare mode.\n",
      "2025-02-18 12:47:31.891 Thread 'MainThread': missing ScriptRunContext! This warning can be ignored when running in bare mode.\n",
      "2025-02-18 12:47:31.892 Thread 'MainThread': missing ScriptRunContext! This warning can be ignored when running in bare mode.\n",
      "2025-02-18 12:47:31.892 Thread 'MainThread': missing ScriptRunContext! This warning can be ignored when running in bare mode.\n",
      "2025-02-18 12:47:31.893 Thread 'MainThread': missing ScriptRunContext! This warning can be ignored when running in bare mode.\n",
      "2025-02-18 12:47:31.893 Thread 'MainThread': missing ScriptRunContext! This warning can be ignored when running in bare mode.\n",
      "2025-02-18 12:47:31.895 Thread 'MainThread': missing ScriptRunContext! This warning can be ignored when running in bare mode.\n",
      "2025-02-18 12:47:31.895 Thread 'MainThread': missing ScriptRunContext! This warning can be ignored when running in bare mode.\n",
      "2025-02-18 12:47:31.896 Thread 'MainThread': missing ScriptRunContext! This warning can be ignored when running in bare mode.\n",
      "2025-02-18 12:47:31.896 Thread 'MainThread': missing ScriptRunContext! This warning can be ignored when running in bare mode.\n",
      "2025-02-18 12:47:31.897 Thread 'MainThread': missing ScriptRunContext! This warning can be ignored when running in bare mode.\n",
      "2025-02-18 12:47:31.897 Thread 'MainThread': missing ScriptRunContext! This warning can be ignored when running in bare mode.\n"
     ]
    }
   ],
   "source": [
    "import streamlit as st\n",
    "import spacy\n",
    "import pandas as pd\n",
    "from collections import Counter\n",
    "\n",
    "# Load spaCy model\n",
    "@st.cache_resource\n",
    "def load_model():\n",
    "    return spacy.load('en_core_web_sm')\n",
    "\n",
    "def analyze_entities(text, nlp):\n",
    "    doc = nlp(text)\n",
    "    entities = [(ent.text, ent.label_) for ent in doc.ents]\n",
    "    return doc, entities\n",
    "\n",
    "def main():\n",
    "    st.title(\"🔍 Entity Analysis App\")\n",
    "    st.write(\"Analyze named entities in your text!\")\n",
    "\n",
    "    # Sidebar with options\n",
    "    st.sidebar.header(\"Settings\")\n",
    "    show_statistics = st.sidebar.checkbox(\"Show Entity Statistics\", True)\n",
    "    show_pos = st.sidebar.checkbox(\"Show Part of Speech\", False)\n",
    "\n",
    "    # Load model\n",
    "    try:\n",
    "        nlp = load_model()\n",
    "    except OSError:\n",
    "        st.error(\"Please install the English language model first: `python -m spacy download en_core_web_sm`\")\n",
    "        return\n",
    "\n",
    "    # Text input\n",
    "    text_input = st.text_area(\n",
    "        \"Enter your text here:\",\n",
    "        \"Apple Inc. is planning to open a new store in London next month. CEO Tim Cook announced this during his visit to the UK last week.\",\n",
    "        height=150\n",
    "    )\n",
    "\n",
    "    if st.button(\"Analyze\"):\n",
    "        if text_input.strip():\n",
    "            # Process the text\n",
    "            doc, entities = analyze_entities(text_input, nlp)\n",
    "\n",
    "            # Display entities\n",
    "            st.subheader(\"Named Entities\")\n",
    "            if entities:\n",
    "                # Create DataFrame for entities\n",
    "                df_entities = pd.DataFrame(entities, columns=['Text', 'Entity Type'])\n",
    "                \n",
    "                # Display as table with highlighting\n",
    "                st.dataframe(df_entities)\n",
    "\n",
    "                # Entity statistics\n",
    "                if show_statistics:\n",
    "                    st.subheader(\"Entity Statistics\")\n",
    "                    entity_counts = Counter([ent[1] for ent in entities])\n",
    "                    df_stats = pd.DataFrame(\n",
    "                        entity_counts.items(),\n",
    "                        columns=['Entity Type', 'Count']\n",
    "                    ).sort_values('Count', ascending=False)\n",
    "                    st.bar_chart(df_stats.set_index('Entity Type'))\n",
    "\n",
    "            else:\n",
    "                st.info(\"No entities found in the text.\")\n",
    "\n",
    "            # Part of Speech Analysis\n",
    "            if show_pos:\n",
    "                st.subheader(\"Part of Speech Analysis\")\n",
    "                pos_data = [(token.text, token.pos_) for token in doc]\n",
    "                df_pos = pd.DataFrame(pos_data, columns=['Text', 'POS'])\n",
    "                st.dataframe(df_pos)\n",
    "\n",
    "        else:\n",
    "            st.warning(\"Please enter some text to analyze.\")\n",
    "\n",
    "    # Add explanation of entity types\n",
    "    with st.expander(\"Entity Types Explanation\"):\n",
    "        st.write(\"\"\"\n",
    "        Common English entity types:\n",
    "        - PERSON: People, including fictional\n",
    "        - ORG: Companies, agencies, institutions\n",
    "        - GPE: Countries, cities, states\n",
    "        - LOC: Non-GPE locations, mountain ranges, water bodies\n",
    "        - DATE: Absolute or relative dates\n",
    "        - TIME: Times smaller than a day\n",
    "        - MONEY: Monetary values\n",
    "        - PRODUCT: Products, including software, cars, foods\n",
    "        - EVENT: Named events like wars, sports events\n",
    "        - WORK_OF_ART: Titles of books, songs, etc.\n",
    "        \"\"\")\n",
    "\n",
    "if __name__ == \"__main__\":\n",
    "    main()"
   ]
  },
  {
   "cell_type": "code",
   "execution_count": 2,
   "metadata": {},
   "outputs": [],
   "source": [
    "import pandas as pd"
   ]
  },
  {
   "cell_type": "code",
   "execution_count": 7,
   "metadata": {},
   "outputs": [
    {
     "data": {
      "text/html": [
       "<div>\n",
       "<style scoped>\n",
       "    .dataframe tbody tr th:only-of-type {\n",
       "        vertical-align: middle;\n",
       "    }\n",
       "\n",
       "    .dataframe tbody tr th {\n",
       "        vertical-align: top;\n",
       "    }\n",
       "\n",
       "    .dataframe thead th {\n",
       "        text-align: right;\n",
       "    }\n",
       "</style>\n",
       "<table border=\"1\" class=\"dataframe\">\n",
       "  <thead>\n",
       "    <tr style=\"text-align: right;\">\n",
       "      <th></th>\n",
       "      <th>reviewId</th>\n",
       "      <th>content</th>\n",
       "      <th>score</th>\n",
       "      <th>thumbsUpCount</th>\n",
       "      <th>reviewCreatedVersion</th>\n",
       "      <th>at</th>\n",
       "      <th>replyContent</th>\n",
       "      <th>repliedAt</th>\n",
       "      <th>predicted_category</th>\n",
       "      <th>sentiment</th>\n",
       "      <th>appVersion</th>\n",
       "    </tr>\n",
       "  </thead>\n",
       "  <tbody>\n",
       "    <tr>\n",
       "      <th>0</th>\n",
       "      <td>326d4bdd-8fc6-4d64-b3bf-ce393fb2ae9b</td>\n",
       "      <td>woww</td>\n",
       "      <td>5</td>\n",
       "      <td>0</td>\n",
       "      <td>NaN</td>\n",
       "      <td>2022-08-16 05:55:38</td>\n",
       "      <td>NaN</td>\n",
       "      <td>NaN</td>\n",
       "      <td>USER_EXPERIENCE</td>\n",
       "      <td>NEUTRAL</td>\n",
       "      <td>NaN</td>\n",
       "    </tr>\n",
       "    <tr>\n",
       "      <th>1</th>\n",
       "      <td>4bbf741b-2f69-43cd-bb76-f9b5f84c83b5</td>\n",
       "      <td>let me know more details about this</td>\n",
       "      <td>3</td>\n",
       "      <td>0</td>\n",
       "      <td>4.5.1143533</td>\n",
       "      <td>2022-08-16 04:44:45</td>\n",
       "      <td>NaN</td>\n",
       "      <td>NaN</td>\n",
       "      <td>CONTENT</td>\n",
       "      <td>NEUTRAL</td>\n",
       "      <td>NaN</td>\n",
       "    </tr>\n",
       "    <tr>\n",
       "      <th>2</th>\n",
       "      <td>3cb1136d-e7c6-4999-aa84-fdc7bcdccf56</td>\n",
       "      <td>i've been using this for a while and there's a...</td>\n",
       "      <td>2</td>\n",
       "      <td>0</td>\n",
       "      <td>4.5.1143533</td>\n",
       "      <td>2022-08-16 04:05:27</td>\n",
       "      <td>NaN</td>\n",
       "      <td>NaN</td>\n",
       "      <td>INTERFACE</td>\n",
       "      <td>NEGATIVE</td>\n",
       "      <td>NaN</td>\n",
       "    </tr>\n",
       "    <tr>\n",
       "      <th>3</th>\n",
       "      <td>d6f80f05-a6e8-44f3-a380-7c59ed3d208b</td>\n",
       "      <td>good</td>\n",
       "      <td>2</td>\n",
       "      <td>0</td>\n",
       "      <td>4.5.1143533</td>\n",
       "      <td>2022-08-16 00:22:33</td>\n",
       "      <td>NaN</td>\n",
       "      <td>NaN</td>\n",
       "      <td>USER_EXPERIENCE</td>\n",
       "      <td>POSITIVE</td>\n",
       "      <td>NaN</td>\n",
       "    </tr>\n",
       "    <tr>\n",
       "      <th>4</th>\n",
       "      <td>eecb277c-c658-4b2d-86c9-77d3a7022cac</td>\n",
       "      <td>mjkobe</td>\n",
       "      <td>5</td>\n",
       "      <td>0</td>\n",
       "      <td>4.5.1143533</td>\n",
       "      <td>2022-08-15 20:08:25</td>\n",
       "      <td>NaN</td>\n",
       "      <td>NaN</td>\n",
       "      <td>USER_EXPERIENCE</td>\n",
       "      <td>NEUTRAL</td>\n",
       "      <td>NaN</td>\n",
       "    </tr>\n",
       "    <tr>\n",
       "      <th>...</th>\n",
       "      <td>...</td>\n",
       "      <td>...</td>\n",
       "      <td>...</td>\n",
       "      <td>...</td>\n",
       "      <td>...</td>\n",
       "      <td>...</td>\n",
       "      <td>...</td>\n",
       "      <td>...</td>\n",
       "      <td>...</td>\n",
       "      <td>...</td>\n",
       "      <td>...</td>\n",
       "    </tr>\n",
       "    <tr>\n",
       "      <th>61261</th>\n",
       "      <td>e6f30229-7445-4120-b9dc-e83d5714f3df</td>\n",
       "      <td>stop trying to make me pay more. there are no ...</td>\n",
       "      <td>4</td>\n",
       "      <td>0</td>\n",
       "      <td>4.5.1250403</td>\n",
       "      <td>2025-02-04 13:31:00</td>\n",
       "      <td>NaN</td>\n",
       "      <td>NaN</td>\n",
       "      <td>SUBSCRIPTION</td>\n",
       "      <td>NEGATIVE</td>\n",
       "      <td>4.5.1250403</td>\n",
       "    </tr>\n",
       "    <tr>\n",
       "      <th>61262</th>\n",
       "      <td>b6e4741f-9411-4668-ad3c-d6395cb6af65</td>\n",
       "      <td>good</td>\n",
       "      <td>3</td>\n",
       "      <td>0</td>\n",
       "      <td>4.5.1250091</td>\n",
       "      <td>2025-02-04 09:36:11</td>\n",
       "      <td>NaN</td>\n",
       "      <td>NaN</td>\n",
       "      <td>USER_EXPERIENCE</td>\n",
       "      <td>POSITIVE</td>\n",
       "      <td>4.5.1250091</td>\n",
       "    </tr>\n",
       "    <tr>\n",
       "      <th>61263</th>\n",
       "      <td>db266bb0-7549-440c-b695-7fd41ac4af35</td>\n",
       "      <td>good project</td>\n",
       "      <td>3</td>\n",
       "      <td>0</td>\n",
       "      <td>4.5.1250091</td>\n",
       "      <td>2025-02-04 07:47:37</td>\n",
       "      <td>NaN</td>\n",
       "      <td>NaN</td>\n",
       "      <td>USER_EXPERIENCE</td>\n",
       "      <td>POSITIVE</td>\n",
       "      <td>4.5.1250091</td>\n",
       "    </tr>\n",
       "    <tr>\n",
       "      <th>61264</th>\n",
       "      <td>dbdf033c-05ce-4a64-bcd0-7d8171acae78</td>\n",
       "      <td>very educative, enlightening platform where yo...</td>\n",
       "      <td>5</td>\n",
       "      <td>0</td>\n",
       "      <td>4.5.1250091</td>\n",
       "      <td>2025-02-04 07:00:47</td>\n",
       "      <td>NaN</td>\n",
       "      <td>NaN</td>\n",
       "      <td>CONTENT</td>\n",
       "      <td>POSITIVE</td>\n",
       "      <td>4.5.1250091</td>\n",
       "    </tr>\n",
       "    <tr>\n",
       "      <th>61265</th>\n",
       "      <td>fff20976-8d49-432a-92dd-f460a039a4c8</td>\n",
       "      <td>nice and futuristic</td>\n",
       "      <td>5</td>\n",
       "      <td>0</td>\n",
       "      <td>4.5.1246405</td>\n",
       "      <td>2025-02-04 03:43:17</td>\n",
       "      <td>NaN</td>\n",
       "      <td>NaN</td>\n",
       "      <td>USER_EXPERIENCE</td>\n",
       "      <td>POSITIVE</td>\n",
       "      <td>4.5.1246405</td>\n",
       "    </tr>\n",
       "  </tbody>\n",
       "</table>\n",
       "<p>61266 rows × 11 columns</p>\n",
       "</div>"
      ],
      "text/plain": [
       "                                   reviewId  \\\n",
       "0      326d4bdd-8fc6-4d64-b3bf-ce393fb2ae9b   \n",
       "1      4bbf741b-2f69-43cd-bb76-f9b5f84c83b5   \n",
       "2      3cb1136d-e7c6-4999-aa84-fdc7bcdccf56   \n",
       "3      d6f80f05-a6e8-44f3-a380-7c59ed3d208b   \n",
       "4      eecb277c-c658-4b2d-86c9-77d3a7022cac   \n",
       "...                                     ...   \n",
       "61261  e6f30229-7445-4120-b9dc-e83d5714f3df   \n",
       "61262  b6e4741f-9411-4668-ad3c-d6395cb6af65   \n",
       "61263  db266bb0-7549-440c-b695-7fd41ac4af35   \n",
       "61264  dbdf033c-05ce-4a64-bcd0-7d8171acae78   \n",
       "61265  fff20976-8d49-432a-92dd-f460a039a4c8   \n",
       "\n",
       "                                                 content  score  \\\n",
       "0                                                   woww      5   \n",
       "1                    let me know more details about this      3   \n",
       "2      i've been using this for a while and there's a...      2   \n",
       "3                                                   good      2   \n",
       "4                                                 mjkobe      5   \n",
       "...                                                  ...    ...   \n",
       "61261  stop trying to make me pay more. there are no ...      4   \n",
       "61262                                               good      3   \n",
       "61263                                       good project      3   \n",
       "61264  very educative, enlightening platform where yo...      5   \n",
       "61265                                nice and futuristic      5   \n",
       "\n",
       "       thumbsUpCount reviewCreatedVersion                   at replyContent  \\\n",
       "0                  0                  NaN  2022-08-16 05:55:38          NaN   \n",
       "1                  0          4.5.1143533  2022-08-16 04:44:45          NaN   \n",
       "2                  0          4.5.1143533  2022-08-16 04:05:27          NaN   \n",
       "3                  0          4.5.1143533  2022-08-16 00:22:33          NaN   \n",
       "4                  0          4.5.1143533  2022-08-15 20:08:25          NaN   \n",
       "...              ...                  ...                  ...          ...   \n",
       "61261              0          4.5.1250403  2025-02-04 13:31:00          NaN   \n",
       "61262              0          4.5.1250091  2025-02-04 09:36:11          NaN   \n",
       "61263              0          4.5.1250091  2025-02-04 07:47:37          NaN   \n",
       "61264              0          4.5.1250091  2025-02-04 07:00:47          NaN   \n",
       "61265              0          4.5.1246405  2025-02-04 03:43:17          NaN   \n",
       "\n",
       "      repliedAt predicted_category sentiment   appVersion  \n",
       "0           NaN    USER_EXPERIENCE   NEUTRAL          NaN  \n",
       "1           NaN            CONTENT   NEUTRAL          NaN  \n",
       "2           NaN          INTERFACE  NEGATIVE          NaN  \n",
       "3           NaN    USER_EXPERIENCE  POSITIVE          NaN  \n",
       "4           NaN    USER_EXPERIENCE   NEUTRAL          NaN  \n",
       "...         ...                ...       ...          ...  \n",
       "61261       NaN       SUBSCRIPTION  NEGATIVE  4.5.1250403  \n",
       "61262       NaN    USER_EXPERIENCE  POSITIVE  4.5.1250091  \n",
       "61263       NaN    USER_EXPERIENCE  POSITIVE  4.5.1250091  \n",
       "61264       NaN            CONTENT  POSITIVE  4.5.1250091  \n",
       "61265       NaN    USER_EXPERIENCE  POSITIVE  4.5.1246405  \n",
       "\n",
       "[61266 rows x 11 columns]"
      ]
     },
     "execution_count": 7,
     "metadata": {},
     "output_type": "execute_result"
    }
   ],
   "source": [
    "df = pd.read_csv(r'C:\\Users\\Utente\\OneDrive\\Desktop\\FISTIC2024\\dataset.csv')\n",
    "df"
   ]
  },
  {
   "cell_type": "code",
   "execution_count": 15,
   "metadata": {},
   "outputs": [],
   "source": [
    "from sklearn.feature_extraction.text import TfidfVectorizer"
   ]
  },
  {
   "cell_type": "code",
   "execution_count": 20,
   "metadata": {},
   "outputs": [
    {
     "data": {
      "text/plain": [
       "(61266, 21129)"
      ]
     },
     "execution_count": 20,
     "metadata": {},
     "output_type": "execute_result"
    }
   ],
   "source": [
    "corpus = df['content']\n",
    "\n",
    "vectorizer = TfidfVectorizer()\n",
    "X = vectorizer.fit_transform(corpus)\n",
    "vectorizer.get_feature_names_out()\n",
    "\n",
    "X.shape"
   ]
  },
  {
   "cell_type": "code",
   "execution_count": null,
   "metadata": {},
   "outputs": [],
   "source": []
  }
 ],
 "metadata": {
  "kernelspec": {
   "display_name": "Python 3",
   "language": "python",
   "name": "python3"
  },
  "language_info": {
   "codemirror_mode": {
    "name": "ipython",
    "version": 3
   },
   "file_extension": ".py",
   "mimetype": "text/x-python",
   "name": "python",
   "nbconvert_exporter": "python",
   "pygments_lexer": "ipython3",
   "version": "3.11.9"
  }
 },
 "nbformat": 4,
 "nbformat_minor": 2
}
